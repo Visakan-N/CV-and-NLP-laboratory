{
 "cells": [
  {
   "attachments": {},
   "cell_type": "markdown",
   "metadata": {},
   "source": [
    "# Motion Detection"
   ]
  },
  {
   "cell_type": "code",
   "execution_count": 13,
   "metadata": {},
   "outputs": [],
   "source": [
    "import cv2\n",
    "import matplotlib.pyplot as plt\n",
    "\n",
    "video = cv2.VideoCapture('cars.mp4')\n",
    "\n",
    "ret, frame_prev = video.read() # read the first frame\n",
    "frame_prev_gray = cv2.cvtColor(frame_prev, cv2.COLOR_BGR2GRAY) # convert it to grayscale\n",
    "\n",
    "while True:\n",
    "    ret, frame = video.read()\n",
    "    if not ret:\n",
    "        break\n",
    "\n",
    "    frame_gray = cv2.cvtColor(frame, cv2.COLOR_BGR2GRAY)\n",
    "\n",
    "    frame_diff = cv2.absdiff(frame_gray, frame_prev_gray) # computing the difference between the current frame and previous frame\n",
    "\n",
    "    _, frame_threshold = cv2.threshold(frame_diff, 30, 255, cv2.THRESH_BINARY) # appplying a threshold to the frame difference\n",
    "\n",
    "    cv2.imshow('Motion detection', frame_threshold) # displaying the threshold frame\n",
    "\n",
    "    frame_prev_gray = frame_gray # updating the previous frame\n",
    "\n",
    "    if cv2.waitKey(1) & 0xFF == ord('q'): # break the loop if 'q' is pressed\n",
    "        break\n",
    "\n",
    "video.release()\n",
    "cv2.destroyAllWindows()"
   ]
  }
 ],
 "metadata": {
  "kernelspec": {
   "display_name": "base",
   "language": "python",
   "name": "python3"
  },
  "language_info": {
   "codemirror_mode": {
    "name": "ipython",
    "version": 3
   },
   "file_extension": ".py",
   "mimetype": "text/x-python",
   "name": "python",
   "nbconvert_exporter": "python",
   "pygments_lexer": "ipython3",
   "version": "3.9.13"
  },
  "orig_nbformat": 4
 },
 "nbformat": 4,
 "nbformat_minor": 2
}
